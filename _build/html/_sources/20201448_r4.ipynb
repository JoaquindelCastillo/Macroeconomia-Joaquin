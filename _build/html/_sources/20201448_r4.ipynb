{
 "cells": [
  {
   "cell_type": "markdown",
   "id": "c854dc61-bcc7-4534-b4c6-2e5c975bd5b1",
   "metadata": {},
   "source": [
    "# REPORTE N°4"
   ]
  },
  {
   "cell_type": "code",
   "execution_count": 1,
   "id": "0e9b4056-52d7-4d81-81b3-09dffb011d32",
   "metadata": {},
   "outputs": [],
   "source": [
    "%matplotlib inline\n",
    "import matplotlib.pyplot as plt\n",
    "import numpy as np\n",
    "import sympy as sy\n",
    "from sympy import *\n",
    "import pandas as pd\n",
    "#from causalgraphicalmodels import CausalGraphicalModel"
   ]
  },
  {
   "cell_type": "markdown",
   "id": "53122401",
   "metadata": {},
   "source": [
    "## Reporte:"
   ]
  },
  {
   "cell_type": "markdown",
   "id": "7c41e03b",
   "metadata": {},
   "source": [
    "El artículo escrito por Wund explica las medidas económicas tomadas por el FED en la crisis del 2008-2009, para lo cual busca explicarlo mediante una expansión del modelo tradicional de demanda y oferta agregada. Por ello la pregunta de investigación sería ¿cómo modelar la política monetaria no convencional seguida en la crisis internacional del 2008-2009?\n",
    "\n",
    "Una de sus principales fortalezas fue presentar ejercicios para ver cómo se afectaban a las variables endógenas de su modelo. En estos no se centra en una descripción teórica o matemática, sino que también muestra gráficos sobre cómo cambiaban las curvas LM, IS y BB, lo cual permitía una mayor comprensión del modelo propuesto, además que le daba mayor validez académica al someterlo a diversas circunstancias y mostrando cómo funcionaba en esos contextos. Por otro lado, otra fortaleza fue la readaptación del modelo keynesiano, el cual tal como menciona el autor en muchas ocasiones suele ser catalogado como poco explicativo, justamente por su antigüedad, no obstante, Wund mediante su modelo de la política monetaria no convencional logra mostrar que este modelo sigue vigente. Sobre las debilidades identifico una: la contextualización. Si bien es cierto que el objetivo central del artículo era mostrar la funcionalidad del modelo de política monetaria no convencional, creo que hubiera sido óptimo mostrar una breve contextualización del suceso a estudiar que en este caso era la crisis del 2008-2009, es decir mostrar por qué y cómo sucedió para que el lector este familiarizado sobre la crisis a tratar. \n",
    "\n",
    "Ahora bien, el artículo avanza en la explicación de la pregunta de investigación, tras incluir al mercado de bonos a largo plazo al modelo IS-LM, lo cual permite entender mejor las cuestiones de políticas monetarias no convencionales usadas por el FED durante la crisis del 2008-2009. Por otro lado, este artículo no solo presenta el nuevo modelo IS-LM-BB sino que lo prueba mediante escenarios hipotéticos, por ejemplo mostrando los efectos de una menor tasa de interés a corto plazo o también viendo los efectos de un mayor gasto público. \n",
    "\n",
    "Ahora bien, uno de los primeros pasos para esta investigación sería ver más a fondo la crisis del 2008-2009 y el modelo propuesto en otros países cercanos que tuvieron una realidad distinta a Estados Unidos, por ejemplo, en el caso de Canadá , según autores como Ros (2012), tuvo varias diferencias en la exposición a la crisis en comparación con EEUU, por ejemplo, tuvo grados menores de exposición en los mercados crediticios de riesgo alto en comparación a los que prevalecían en Estados Unidos y de otros países europeos. Otra clara diferencia es que Canadá tenía una deuda pública baja proporcionalmente con su PBI, lo cual sumado a su situación fiscal relativamente holgada, le otorgaba un margen fiscal considerable para combatir el impacto de la recesión de la crisis del 2008-2009. \n",
    "\n",
    "Por otro lado, sería bueno poner a prueba dicho modelo en crisis actuales para ver su vigencia. Un claro ejemplo podría ser el COVID-19, la cual si bien fue una crisis sanitaria, también derivó en grandes problemas económicos que ocasionaron despidos masivos y con ello una crisis económica mundial. Esta crisis, según la ONU (2021), debe ser combatida mediante una política expansiva de gasto público muy grande, pues la crisis existente es de las más grandes de la historia. En este sentido una forma más de validar la importancia de modelos antiguos como el keynesiano para explicar problemas actuales, es ver a prueba dicho modelo con la Pandemia actual. \n",
    " \n",
    "Fuentes: \n",
    "\n",
    "Ros, Jaime. (2012). Junto al epicentro: análisis comparativo de las economías de Canadá y México durante la crisis de 2008-2009. Economía UNAM, 9(27), 22-44. Recuperado en 25 de septiembre de 2022, de http://www.scielo.org.mx/scielo.php?script=sci_arttext&pid=S1665-952X2012000300002&lng=es&tlng=es.\n",
    "\n",
    "O.N.U (2021). Para impulsar la reactivación económica y mitigar los efectos negativos de la pandemia, es esencial que la región mantenga una política fiscal expansiva. Recuperado de 25 de septiembre de 2022, de https://www.cepal.org/es/comunicados/impulsar-la-reactivacion-economica-mitigar-efectos-negativos-la-pandemia-es-esencial-que\n"
   ]
  },
  {
   "cell_type": "markdown",
   "id": "452a5b79",
   "metadata": {},
   "source": [
    "## Solución parte código:\n",
    "\n",
    "    - Sebastian Torres\n",
    "    - Joaquín Del Castillo\n",
    "\n",
    "### Parte 1:\n",
    "\n",
    "#### 1. Encuentre las ecuaciones de Ingreso  y tasa de interes  de equilibrio.\n",
    "\n",
    "Derivación del equilibrio del modelo IS-LM:\n",
    "\n",
    "\n",
    "\n",
    "En primer lugar vemos la ecuación de la curva IS,\n",
    "\n",
    "$$ r = \\frac{B_o}{h} - \\frac{B_1}{h}Y $$\n",
    "\n",
    "- Donde $ B_0 = C_o + I_o + G_o + X_o $ y $ B_1 = 1 - (b - m)(1 - t) $\n",
    "\n",
    "\n",
    "Y, por otro lado, la ecuación de la curva LM:\n",
    "\n",
    "$$  r = -\\frac{1}{j}\\frac{Mo^s}{P_o} + \\frac{k}{j}Y $$\n",
    "\n",
    "Podemos igualar, sustituir o reducir ambas ecuaciones para encontrar el nivel de Ingresos equilibrio $(Y^e)$ y la tasa de interés de \n",
    "\n",
    "equilibrio $(r^e)$:\n",
    "\n",
    "\n",
    "\n",
    "$$ -\\frac{1}{j}\\frac{Mo^s}{P_o} + \\frac{k}{j}Y = \\frac{B_o}{h} - \\frac{B_1}{h}Y $$\n",
    "\n",
    "- Ingreso de equilibrio:\n",
    "\n",
    "$$ Y^e = \\frac{j B_o}{k h + j B_1} + (\\frac{h}{k h + j B_1})\\frac{Ms_o}{P_o} $$\n",
    "\n",
    "- Tasa de interés de equilibrio:\n",
    "\n",
    "$$ r^e = \\frac{kB_o}{kh + jB_1} - (\\frac{B_1}{kh + jB_1})\\frac{Ms_o}{P_o} $$\n",
    "\n",
    "Estas dos ecuaciones representan el modelo IS-LM\n"
   ]
  },
  {
   "cell_type": "markdown",
   "id": "de016dc6",
   "metadata": {},
   "source": [
    "#### 2. Grafique el equilibrio simultáneo en los mercados de bienes y de dinero."
   ]
  },
  {
   "cell_type": "code",
   "execution_count": 8,
   "id": "70a77864",
   "metadata": {},
   "outputs": [],
   "source": [
    "#--------------------------------------------------\n",
    "    # Curva IS\n",
    "\n",
    "# Parámetros\n",
    "\n",
    "Y_size = 100 \n",
    "\n",
    "Co = 35\n",
    "Io = 40\n",
    "Go = 50\n",
    "Xo = 2\n",
    "h = 0.8\n",
    "b = 0.4\n",
    "m = 0.5\n",
    "t = 0.8\n",
    "\n",
    "Y = np.arange(Y_size)\n",
    "\n",
    "\n",
    "# Ecuación \n",
    "def r_IS(b, m, t, Co, Io, Go, Xo, h, Y):\n",
    "    r_IS = (Co + Io + Go + Xo)/h - ( ( 1-(b-m)*(1-t) ) / h)*Y  \n",
    "    return r_IS\n",
    "\n",
    "r_is = r_IS(b, m, t, Co, Io, Go, Xo, h, Y)\n",
    "\n",
    "\n",
    "#--------------------------------------------------\n",
    "    # Curva LM \n",
    "\n",
    "# Parámetros\n",
    "\n",
    "Y_size = 100\n",
    "\n",
    "k = 2\n",
    "j = 1                \n",
    "Ms = 180            \n",
    "P  = 25               \n",
    "\n",
    "Y = np.arange(Y_size)\n",
    "\n",
    "# Ecuación\n",
    "\n",
    "def r_LM(k, j, Ms, P, Y):\n",
    "    r_LM = - (1/j)*(Ms/P) + (k/j)*Y\n",
    "    return r_LM\n",
    "\n",
    "r_lm = r_LM( k, j, Ms, P, Y)"
   ]
  },
  {
   "cell_type": "code",
   "execution_count": 9,
   "id": "70f0376b",
   "metadata": {},
   "outputs": [
    {
     "data": {
      "image/png": "[encoded data removed]",
      "text/plain": [
       "<Figure size 720x576 with 1 Axes>"
      ]
     },
     "metadata": {},
     "output_type": "display_data"
    }
   ],
   "source": [
    "# Gráfico del modelo IS-LM\n",
    "\n",
    "# Dimensiones del gráfico\n",
    "y_max = np.max(r_lm)\n",
    "fig, ax = plt.subplots(figsize=(10, 8))\n",
    "\n",
    "# Curvas a graficar\n",
    "# Curva IS\n",
    "ax.plot(Y, r_is, label = \"IS\", color = \"C1\") #IS\n",
    "# Curva LM\n",
    "ax.plot(Y, r_lm, label=\"LM\", color = \"C0\")  #LM\n",
    "\n",
    "# Eliminar las cantidades de los ejes\n",
    "ax.yaxis.set_major_locator(plt.NullLocator())   \n",
    "ax.xaxis.set_major_locator(plt.NullLocator())\n",
    "\n",
    "# Texto y figuras agregadas\n",
    "# Graficar la linea horizontal - r\n",
    "plt.axvline(x=51.5,  ymin= 0, ymax= 0.52, linestyle = \":\", color = \"black\")\n",
    "# Grafica la linea vertical - Y\n",
    "plt.axhline(y=93, xmin= 0, xmax= 0.52, linestyle = \":\", color = \"black\")\n",
    "\n",
    "# Plotear los textos \n",
    "plt.text(49,100, '$E_0$', fontsize = 14, color = 'black')\n",
    "plt.text(0,100, '$r_0$', fontsize = 12, color = 'black')\n",
    "plt.text(53,-10, '$Y_0$', fontsize = 12, color = 'black')\n",
    "\n",
    "# Título, ejes y leyenda\n",
    "ax.set(title=\"Grafico simultaneo en los mercados de dinero y de bienes\", xlabel= r'Y', ylabel= r'r')\n",
    "ax.legend()\n",
    "\n",
    "plt.show()"
   ]
  },
  {
   "cell_type": "markdown",
   "id": "409722d5",
   "metadata": {},
   "source": [
    "### Parte 2: Estática comparativa."
   ]
  },
  {
   "cell_type": "markdown",
   "id": "29d1009e",
   "metadata": {},
   "source": [
    "#### 1) Analice los efectos sobre las variables endógenas Y, r de una disminución del gasto fiscal. El análisis debe ser intuitivo, matemático y gráfico.\n",
    "   \n",
    "   - Intuitivo: \n",
    "\n",
    "$$ G↓ → DA↓ → DA<Y → Y↓ → DA=Y $$\n",
    "\n",
    "$$ Y↓ → Md↓ → Md < Ms → r↓ → Md=Ms $$\n",
    "\n",
    "    - Matemático: "
   ]
  },
  {
   "cell_type": "code",
   "execution_count": 5,
   "id": "a50d5602",
   "metadata": {},
   "outputs": [],
   "source": [
    "# nombrar variables como símbolos\n",
    "Co, Io, Go, Xo, h, r, b, m, t, beta_0, beta_1  = symbols('Co Io Go Xo h r b m t beta_0, beta_1')\n",
    "\n",
    "# nombrar variables como símbolos\n",
    "k, j, Ms, P, Y = symbols('k j Ms P Y')\n",
    "\n",
    "# Beta_0 y beta_1\n",
    "beta_0 = (Co + Io + Go + Xo)\n",
    "beta_1 = ( 1-(b-m)*(1-t) )\n",
    "\n",
    "# Producto de equilibrio y la tasa de interes de equilibrio en el modelo IS-LM\n",
    "Y_eq = (j*beta_0)/(k*h + j*beta_1) - ( beta_1 / (k*h + j*beta_1) )*(Ms/P)\n",
    "r_eq = (k*beta_0)/(k*h + j*beta_1) + ( h / (k*h + j*beta_1) )*(Ms/P)    \n"
   ]
  },
  {
   "cell_type": "code",
   "execution_count": 6,
   "id": "29e54ffb",
   "metadata": {},
   "outputs": [
    {
     "name": "stdout",
     "output_type": "stream",
     "text": [
      "El Diferencial del producto con respecto al diferencial del gasto autonomo =  j/(h*k + j*(-(1 - t)*(b - m) + 1))\n"
     ]
    }
   ],
   "source": [
    "df_Y_eq_Go = diff(Y_eq, Go)\n",
    "print(\"El Diferencial del producto con respecto al diferencial del gasto autonomo = \", df_Y_eq_Go)  # este diferencial es positivo"
   ]
  },
  {
   "cell_type": "code",
   "execution_count": 7,
   "id": "236e6679",
   "metadata": {
    "scrolled": true
   },
   "outputs": [
    {
     "name": "stdout",
     "output_type": "stream",
     "text": [
      "El Diferencial de la tasa de interes con respecto al diferencial del gasto autonomo =  k/(h*k + j*(-(1 - t)*(b - m) + 1))\n"
     ]
    }
   ],
   "source": [
    "df_r_eq_Go = diff(r_eq, Go)\n",
    "print(\"El Diferencial de la tasa de interes con respecto al diferencial del gasto autonomo = \", df_r_eq_Go)  # este diferencial es positivo"
   ]
  },
  {
   "cell_type": "markdown",
   "id": "55e3862d",
   "metadata": {},
   "source": [
    "Entonces: \n",
    "\n",
    "$$\\frac{ΔY_e}{ΔG_0}=\\frac{j}{kh+jB_1}ΔG_0<0 → Y (-)$$\n",
    "\n",
    "$$\\frac{ΔY_e}{ΔG_0}= (+)(-) < 0 → (-)$$\n",
    "\n",
    "$$\\frac{ΔY_e}{ΔG_0}=\\frac{k}{kh+jB_1}ΔG_0 → 0$$\n",
    "\n",
    "$$\\frac{ΔY_e}{ΔG_0}= (+)(-) < 0 → (-)$$"
   ]
  },
  {
   "cell_type": "markdown",
   "id": "6c5f4805",
   "metadata": {},
   "source": [
    "    - Gráfico: "
   ]
  },
  {
   "cell_type": "code",
   "execution_count": 10,
   "id": "3e655b20",
   "metadata": {},
   "outputs": [],
   "source": [
    "#1--------------------------------------------------\n",
    "    # Curva IS ORIGINAL\n",
    "\n",
    "# Parámetros\n",
    "\n",
    "Y_size = 100 \n",
    "\n",
    "Co = 35\n",
    "Io = 40\n",
    "Go = 50\n",
    "Xo = 2\n",
    "h = 0.8\n",
    "b = 0.5\n",
    "m = 0.4\n",
    "t = 0.8\n",
    "\n",
    "Y = np.arange(Y_size)\n",
    "\n",
    "\n",
    "# Ecuación \n",
    "def r_IS(b, m, t, Co, Io, Go, Xo, h, Y):\n",
    "    r_IS = (Co + Io + Go + Xo - Y * (1-(b-m)*(1-t)))/h\n",
    "    return r_IS\n",
    "\n",
    "r = r_IS(b, m, t, Co, Io, Go, Xo, h, Y)\n",
    "\n",
    "\n",
    "#2--------------------------------------------------\n",
    "    # Curva LM ORIGINAL\n",
    "\n",
    "# Parámetros\n",
    "\n",
    "Y_size = 100\n",
    "\n",
    "k = 2\n",
    "j = 1                \n",
    "Ms = 200             \n",
    "P  = 20               \n",
    "\n",
    "Y = np.arange(Y_size)\n",
    "\n",
    "# Ecuación\n",
    "\n",
    "def i_LM( k, j, Ms, P, Y):\n",
    "    i_LM = (-Ms/P)/j + k/j*Y\n",
    "    return i_LM\n",
    "\n",
    "i = i_LM( k, j, Ms, P, Y)"
   ]
  },
  {
   "cell_type": "code",
   "execution_count": 11,
   "id": "59a5f170",
   "metadata": {},
   "outputs": [],
   "source": [
    "#--------------------------------------------------\n",
    "    # NUEVA curva IS: reducción Gasto de Gobienro (Go)\n",
    "    \n",
    "# Definir SOLO el parámetro cambiado\n",
    "Go = 30\n",
    "\n",
    "# Generar la ecuación con el nuevo parámetro\n",
    "def r_IS(b, m, t, Co, Io, Go, Xo, h, Y):\n",
    "    r_IS = (Co + Io + Go + Xo - Y * (1-(b-m)*(1-t)))/h\n",
    "    return r_IS\n",
    "\n",
    "r_G = r_IS(b, m, t, Co, Io, Go, Xo, h, Y)"
   ]
  },
  {
   "cell_type": "code",
   "execution_count": 12,
   "id": "0e2c1bfb",
   "metadata": {},
   "outputs": [
    {
     "data": {
      "image/png": "[encoded data removed]",
      "text/plain": [
       "<Figure size 720x576 with 1 Axes>"
      ]
     },
     "metadata": {
      "needs_background": "light"
     },
     "output_type": "display_data"
    }
   ],
   "source": [
    "# Gráfico\n",
    "\n",
    "# Dimensiones del gráfico\n",
    "y_max = np.max(i)\n",
    "fig, ax = plt.subplots(figsize=(10, 8))\n",
    "\n",
    "# Curvas a graficar\n",
    "ax.plot(Y, r, label = \"IS_(G_0)\", color = \"C1\") #IS_orginal\n",
    "ax.plot(Y, r_G, label = \"IS_(G_1)\", color = \"C1\", linestyle = 'dashed') #IS_modificada\n",
    "\n",
    "ax.plot(Y, i, label=\"LM\", color = \"C0\")  #LM_original\n",
    "\n",
    "# Texto y figuras agregadas\n",
    "plt.axvline(x=44.5,  ymin= 0, ymax= 0.45, linestyle = \":\", color = \"grey\")\n",
    "plt.axhline(y=78, xmin= 0, xmax= 0.45, linestyle = \":\", color = \"grey\")\n",
    "\n",
    "plt.axvline(x=53,  ymin= 0, ymax= 0.52, linestyle = \":\", color = \"grey\")\n",
    "plt.axhline(y=94, xmin= 0, xmax= 0.53, linestyle = \":\", color = \"grey\")\n",
    "plt.text(42,70, '$E_1$', fontsize = 14, color = 'black')\n",
    "\n",
    "plt.text(50,100, '$E_0$', fontsize = 14, color = 'black')\n",
    "plt.text(-1,100, '$r_0$', fontsize = 12, color = 'black')\n",
    "plt.text(53,-40, '$Y_0$', fontsize = 12, color = 'black')\n",
    "#plt.text(50,52, '$E_1$', fontsize = 14, color = '#3D59AB')\n",
    "#plt.text(-1,72, '$r_1$', fontsize = 12, color = '#3D59AB')\n",
    "plt.text(47,-40, '$Y_1$', fontsize = 12, color = '#3D59AB')\n",
    "\n",
    "#plt.text(69, 115, '→', fontsize=15, color='grey')\n",
    "plt.text(65, 60, '↙', fontsize=18, color='grey')\n",
    "\n",
    "# Título, ejes y leyenda\n",
    "ax.set(title=\"Politica Fiscal contractiva\", xlabel= r'Y', ylabel= r'r')\n",
    "ax.legend()\n",
    "\n",
    "plt.show()"
   ]
  },
  {
   "cell_type": "markdown",
   "id": "8dfd274b",
   "metadata": {},
   "source": [
    "#### 2) Analice los efectos sobre las variables endógenas Y, r de una disminución de la masa monetaria (ΔMs<0). El análisis debe ser intuitivo, matemático y gráfico.\n",
    "   \n",
    "   - Intuitivo: \n",
    "    \n",
    "$$Ms↓ → M°↓ → M°<Md → r↑$$\n",
    "\n",
    "$$r↑ → I↓ → DA < Y → Y↓$$\n",
    "\n",
    "    - Matemático: "
   ]
  },
  {
   "cell_type": "code",
   "execution_count": 11,
   "id": "ef1e4bb0",
   "metadata": {},
   "outputs": [],
   "source": [
    "Co, Io, Go, Xo, h, r, b, m, t, beta_0, beta_1  = symbols('Co Io Go Xo h r b m t beta_0, beta_1')\n",
    "\n",
    "# nombrar variables como símbolos\n",
    "k, j, Ms, P, Y = symbols('k j Ms P Y')\n",
    "\n",
    "# Beta_0 y beta_1\n",
    "beta_0 = (Co + Io + Go + Xo)\n",
    "beta_1 = ( 1-(b-m)*(1-t) )\n",
    "\n",
    "# Producto de equilibrio y la tasa de interes de equilibrio en el modelo IS-LM\n",
    "r_eq = (k*beta_0)/(k*h + j*beta_1) - ( beta_1 / (k*h + j*beta_1) )*(Ms/P)\n",
    "Y_eq = (j*beta_0)/(k*h + j*beta_1) + ( h / (k*h + j*beta_1) )*(Ms/P)"
   ]
  },
  {
   "cell_type": "code",
   "execution_count": 12,
   "id": "6476b4d4",
   "metadata": {},
   "outputs": [
    {
     "name": "stdout",
     "output_type": "stream",
     "text": [
      "El Diferencial de la tasa de interes con respecto al diferencial de la masa monetaria =  -(-(1 - t)*(b - m) + 1)/(P*(h*k + j*(-(1 - t)*(b - m) + 1)))\n"
     ]
    }
   ],
   "source": [
    "df_r_eq_Ms = diff(r_eq, Ms)\n",
    "print(\"El Diferencial de la tasa de interes con respecto al diferencial de la masa monetaria = \", df_r_eq_Ms)  # este diferencial es negativo"
   ]
  },
  {
   "cell_type": "code",
   "execution_count": 13,
   "id": "f32208c7",
   "metadata": {},
   "outputs": [
    {
     "name": "stdout",
     "output_type": "stream",
     "text": [
      "El Diferencial del producto con respecto al diferencial de la masa monetaria =  h/(P*(h*k + j*(-(1 - t)*(b - m) + 1)))\n"
     ]
    }
   ],
   "source": [
    "df_Y_eq_Ms = diff(Y_eq, Ms)\n",
    "print(\"El Diferencial del producto con respecto al diferencial de la masa monetaria = \", df_Y_eq_Ms)  # este diferencial es positivo"
   ]
  },
  {
   "cell_type": "markdown",
   "id": "e3d2edf7",
   "metadata": {},
   "source": [
    "Entonces: \n",
    "\n",
    "$${Δr}=\\frac{k}{kh+jB_1}ΔM_0 → 0$$\n",
    "\n",
    "$$Δr= (+) * (-) = (-) > 0$$\n",
    "\n",
    "$${ΔY_e}=\\frac{j}{kh+jB_1}ΔMo<0$$\n",
    "\n",
    "$$YΔ= (+) * (-) = (-) < 0$$"
   ]
  },
  {
   "cell_type": "markdown",
   "id": "81b77f2a",
   "metadata": {},
   "source": [
    "    - Gráfico: "
   ]
  },
  {
   "cell_type": "code",
   "execution_count": 13,
   "id": "4bc66899",
   "metadata": {},
   "outputs": [],
   "source": [
    "#1--------------------------------------------------\n",
    "    # Curva IS ORIGINAL\n",
    "\n",
    "# Parámetros\n",
    "\n",
    "Y_size = 100 \n",
    "\n",
    "Co = 35\n",
    "Io = 40\n",
    "Go = 50\n",
    "Xo = 2\n",
    "h = 0.8\n",
    "b = 0.6\n",
    "m = 0.5\n",
    "t = 0.8\n",
    "\n",
    "Y = np.arange(Y_size)\n",
    "\n",
    "\n",
    "# Ecuación \n",
    "def r_IS(b, m, t, Co, Io, Go, Xo, h, Y):\n",
    "    r_IS = (Co + Io + Go + Xo - Y * (1-(b-m)*(1-t)))/h\n",
    "    return r_IS\n",
    "\n",
    "r = r_IS(b, m, t, Co, Io, Go, Xo, h, Y)\n",
    "\n",
    "\n",
    "#2--------------------------------------------------\n",
    "    # Curva LM ORIGINAL\n",
    "\n",
    "# Parámetros\n",
    "\n",
    "Y_size = 100\n",
    "\n",
    "k = 2\n",
    "j = 1                \n",
    "Ms = 200             \n",
    "P  = 20               \n",
    "\n",
    "Y = np.arange(Y_size)\n",
    "\n",
    "# Ecuación\n",
    "\n",
    "def i_LM( k, j, Ms, P, Y):\n",
    "    i_LM = (-Ms/P)/j + k/j*Y\n",
    "    return i_LM\n",
    "\n",
    "i = i_LM( k, j, Ms, P, Y)"
   ]
  },
  {
   "cell_type": "code",
   "execution_count": 14,
   "id": "dbc27959",
   "metadata": {},
   "outputs": [],
   "source": [
    "# Definir SOLO el parámetro cambiado\n",
    "Ms = 50\n",
    "\n",
    "# Generar nueva curva LM con la variacion del Ms\n",
    "def i_LM_Ms( k, j, Ms, P, Y):\n",
    "    i_LM = (-Ms/P)/j + k/j*Y\n",
    "    return i_LM\n",
    "\n",
    "i_Ms = i_LM_Ms( k, j, Ms, P, Y)"
   ]
  },
  {
   "cell_type": "code",
   "execution_count": 15,
   "id": "82b462e1",
   "metadata": {},
   "outputs": [
    {
     "data": {
      "image/png": "[encoded data removed]",
      "text/plain": [
       "<Figure size 720x576 with 1 Axes>"
      ]
     },
     "metadata": {
      "needs_background": "light"
     },
     "output_type": "display_data"
    }
   ],
   "source": [
    "# Gráfico\n",
    "\n",
    "# Dimensiones del gráfico\n",
    "y_max = np.max(i)\n",
    "fig, ax = plt.subplots(figsize=(10, 8))\n",
    "\n",
    "# Curvas a graficar\n",
    "ax.plot(Y, r, label = \"IS\", color = \"C1\") #IS_orginal\n",
    "ax.plot(Y, i, label=\"LM_(MS_0)\", color = \"C0\")  #LM_original\n",
    "\n",
    "ax.plot(Y, i_Ms, label=\"LM_(MS_1)\", color = \"C0\", linestyle = 'dashed')  #LM_modificada\n",
    "\n",
    "# Lineas de equilibrio_0 \n",
    "plt.axvline(x=50,  ymin= 0, ymax= 0.52, linestyle = \":\", color = \"grey\")\n",
    "plt.axhline(y=93.5, xmin= 0, xmax= 0.53, linestyle = \":\", color = \"grey\")\n",
    "\n",
    "# Lineas de equilibrio_1 \n",
    "plt.axvline(x=52.5,  ymin= 0, ymax= 0.51, linestyle = \":\", color = \"grey\")\n",
    "plt.axhline(y=98, xmin= 0, xmax= 0.5, linestyle = \":\", color = \"grey\")\n",
    "plt.text(62,87, '$E_1$', fontsize = 14, color = 'black')\n",
    "\n",
    "#plt.axhline(y=68, xmin= 0, xmax= 0.52, linestyle = \":\", color = \"grey\")\n",
    "\n",
    "# Textos ploteados\n",
    "plt.text(55,95, '$E_0$', fontsize = 14, color = 'black')\n",
    "plt.text(-1,85, '$r_0$', fontsize = 12, color = 'black')\n",
    "plt.text(55,20, '$Y_0$', fontsize = 12, color = 'black')\n",
    "#plt.text(50,52, '$E_1$', fontsize = 12, color = 'black')\n",
    "plt.text(-1,100, '$r_1$', fontsize = 12, color = 'black')\n",
    "plt.text(46,20, '$Y_1$', fontsize = 12, color = 'black')\n",
    "\n",
    "#plt.text(69, 11, '→', fontsize=15, color='grey')\n",
    "plt.text(52, 98, '←', fontsize=15, color='grey')\n",
    "\n",
    "# Título, ejes y leyenda\n",
    "ax.set(title=\"Efecto de un descenso de la masa monetaria\", xlabel= r'Y', ylabel= r'r')\n",
    "ax.legend()\n",
    "\n",
    "plt.show()"
   ]
  },
  {
   "cell_type": "markdown",
   "id": "e75bc0d2",
   "metadata": {},
   "source": [
    "#### 3) Analice los efectos sobre las variables endógenas Y, r de un incremento de la tasa de impuestos  (Δts>0). El análisis debe ser intuitivo, matemático y gráfico.\n",
    "    \n",
    "    - Intuitivo: \n",
    "    \n",
    "$$t↑ → DA↓ → DA<Y → Y↓ → DA=Y$$\n",
    "\n",
    "$$Y↓ → Md↓ → Md < Ms → r↓ → Md=Ms$$\n",
    "\n",
    "    - Matemático: "
   ]
  },
  {
   "cell_type": "code",
   "execution_count": 17,
   "id": "fecec771",
   "metadata": {},
   "outputs": [],
   "source": [
    "# nombrar variables como símbolos\n",
    "Co, Io, Go, Xo, h, r, b, m, t, beta_0, beta_1  = symbols('Co Io Go Xo h r b m t beta_0, beta_1')\n",
    "\n",
    "# nombrar variables como símbolos\n",
    "k, j, Ms, P, Y = symbols('k j Ms P Y')\n",
    "\n",
    "# Beta_0 y beta_1\n",
    "beta_0 = (Co + Io + Go + Xo)\n",
    "beta_1 = ( 1-(b-m)*(1-t) )\n",
    "\n",
    "# Producto de equilibrio y la tasa de interes de equilibrio en el modelo IS-LM\n",
    "r_eq = (k*beta_0)/(k*h + j*beta_1) - ( beta_1 / (k*h + j*beta_1) )*(Ms/P)\n",
    "Y_eq = (j*beta_0)/(k*h + j*beta_1) + ( h / (k*h + j*beta_1) )*(Ms/P)"
   ]
  },
  {
   "cell_type": "code",
   "execution_count": 18,
   "id": "6708bff3",
   "metadata": {},
   "outputs": [
    {
     "name": "stdout",
     "output_type": "stream",
     "text": [
      "El Diferencial del Producto con respecto al diferencial de la tasa de impuestos =  -Ms*h*j*(b - m)/(P*(h*k + j*(-(1 - t)*(b - m) + 1))**2) - j**2*(b - m)*(Co + Go + Io + Xo)/(h*k + j*(-(1 - t)*(b - m) + 1))**2\n"
     ]
    }
   ],
   "source": [
    "df_Y_eq_t = diff(Y_eq, t)\n",
    "print(\"El Diferencial del Producto con respecto al diferencial de la tasa de impuestos = \", df_Y_eq_t)  # este diferencial es negativo"
   ]
  },
  {
   "cell_type": "code",
   "execution_count": 19,
   "id": "3daeefe4",
   "metadata": {
    "scrolled": true
   },
   "outputs": [
    {
     "name": "stdout",
     "output_type": "stream",
     "text": [
      "El Diferencial de la tasa de interes con respecto al diferencial de la tasa de impuestos =  Ms*j*(b - m)*(-(1 - t)*(b - m) + 1)/(P*(h*k + j*(-(1 - t)*(b - m) + 1))**2) - Ms*(b - m)/(P*(h*k + j*(-(1 - t)*(b - m) + 1))) - j*k*(b - m)*(Co + Go + Io + Xo)/(h*k + j*(-(1 - t)*(b - m) + 1))**2\n"
     ]
    }
   ],
   "source": [
    "df_r_eq_t = diff(r_eq, t)\n",
    "print(\"El Diferencial de la tasa de interes con respecto al diferencial de la tasa de impuestos = \", df_r_eq_t)  # este diferencial es positivo"
   ]
  },
  {
   "cell_type": "markdown",
   "id": "784a8518",
   "metadata": {},
   "source": [
    "Entonces: \n",
    "\n",
    "$${ΔY_e}=\\frac{j}{kh+ Δt} + \\frac{h}{kh + Δt} Δt>0$$\n",
    "\n",
    "$$YΔ= {-} + {-}  = (-) < 0$$\n",
    "\n",
    "$${Δr}=\\frac{k}{kh+ Δt} + \\frac{Δt}{kh + Δt} Δt> 0$$\n",
    "\n",
    "$$Δr= {-} + {-}  = (-) < 0$$\n",
    "\n",
    "    - Gráfico:"
   ]
  },
  {
   "cell_type": "code",
   "execution_count": 16,
   "id": "ef0c0fa9",
   "metadata": {},
   "outputs": [],
   "source": [
    "#1--------------------------------------------------\n",
    "    # Curva IS ORIGINAL\n",
    "\n",
    "# Parámetros\n",
    "\n",
    "Y_size = 100 \n",
    "\n",
    "Co = 35\n",
    "Io = 40\n",
    "Go = 50\n",
    "Xo = 2\n",
    "h = 0.8\n",
    "b = 0.4\n",
    "m = 0.3\n",
    "t = 0.1\n",
    "\n",
    "Y = np.arange(Y_size)\n",
    "\n",
    "\n",
    "# Ecuación \n",
    "def r_IS(b, m, t, Co, Io, Go, Xo, h, Y):\n",
    "    r_IS = (Co + Io + Go + Xo - Y * (1-(b-m)*(1-t)))/h\n",
    "    return r_IS\n",
    "\n",
    "r = r_IS(b, m, t, Co, Io, Go, Xo, h, Y)\n",
    "\n",
    "\n",
    "#2--------------------------------------------------\n",
    "    # Curva LM ORIGINAL\n",
    "\n",
    "# Parámetros\n",
    "\n",
    "Y_size = 100\n",
    "\n",
    "k = 2\n",
    "j = 1                \n",
    "Ms = 200             \n",
    "P  = 20               \n",
    "\n",
    "Y = np.arange(Y_size)\n",
    "\n",
    "# Ecuación\n",
    "\n",
    "def i_LM( k, j, Ms, P, Y):\n",
    "    i_LM = (-Ms/P)/j + k/j*Y\n",
    "    return i_LM\n",
    "\n",
    "i = i_LM( k, j, Ms, P, Y)"
   ]
  },
  {
   "cell_type": "code",
   "execution_count": 17,
   "id": "8e569323",
   "metadata": {},
   "outputs": [],
   "source": [
    "#--------------------------------------------------\n",
    "    # NUEVA curva IS\n",
    "    \n",
    "# Definir SOLO el parámetro cambiado\n",
    "t = 0.9\n",
    "\n",
    "# Generar la ecuación con el nuevo parámetro\n",
    "def r_IS(b, m, t, Co, Io, Go, Xo, h, Y):\n",
    "    r_IS = (Co + Io + Go + Xo - Y * (1-(b-m)*(1-t)))/h\n",
    "    return r_IS\n",
    "\n",
    "r_G = r_IS(b, m, t, Co, Io, Go, Xo, h, Y)"
   ]
  },
  {
   "cell_type": "code",
   "execution_count": 18,
   "id": "a4470060",
   "metadata": {},
   "outputs": [
    {
     "data": {
      "image/png": "[encoded data removed]",
      "text/plain": [
       "<Figure size 720x576 with 1 Axes>"
      ]
     },
     "metadata": {
      "needs_background": "light"
     },
     "output_type": "display_data"
    }
   ],
   "source": [
    "# Gráfico\n",
    "\n",
    "# Dimensiones del gráfico\n",
    "y_max = np.max(i)\n",
    "fig, ax = plt.subplots(figsize=(10, 8))\n",
    "\n",
    "# Curvas a graficar\n",
    "ax.plot(Y, r, label = \"IS_(G_0)\", color = \"C1\") #IS_orginal\n",
    "ax.plot(Y, r_G, label = \"IS_(G_1)\", color = \"C1\", linestyle = 'dashed') #IS_modificada\n",
    "\n",
    "ax.plot(Y, i, label=\"LM\", color = \"C0\")  #LM_original\n",
    "\n",
    "# Texto y figuras agregadas\n",
    "plt.axvline(x=54,  ymin= 0, ymax= 0.54, linestyle = \":\", color = \"grey\")\n",
    "plt.axhline(y=98, xmin= 0, xmax= 0.54, linestyle = \":\", color = \"grey\")\n",
    "\n",
    "plt.axvline(x=52,  ymin= 0, ymax= 0.52, linestyle = \":\", color = \"grey\")\n",
    "plt.axhline(y=94, xmin= 0, xmax= 0.52, linestyle = \":\", color = \"grey\")\n",
    "plt.text(50,85, '$E_1$', fontsize = 14, color = 'black')\n",
    "\n",
    "plt.text(52,102, '$E_0$', fontsize = 14, color = 'black')\n",
    "plt.text(-1,100, '$r_0$', fontsize = 12, color = 'black')\n",
    "plt.text(55,10, '$Y_0$', fontsize = 12, color = 'black')\n",
    "#plt.text(50,52, '$E_1$', fontsize = 14, color = 'black')\n",
    "plt.text(-1,85, '$r_1$', fontsize = 12, color = 'black')\n",
    "plt.text(48,10, '$Y_1$', fontsize = 12, color = 'black')\n",
    "\n",
    "#plt.text(69, 115, '→', fontsize=15, color='grey')\n",
    "plt.text(58, 88, '↙', fontsize=15, color='grey')\n",
    "\n",
    "# Título, ejes y leyenda\n",
    "ax.set(title=\"Incremento de la tasa impositiva\", xlabel= r'Y', ylabel= r'r')\n",
    "ax.legend()\n",
    "\n",
    "plt.show()"
   ]
  },
  {
   "cell_type": "markdown",
   "id": "82f6e0b2",
   "metadata": {},
   "source": [
    "## Puntos extra!"
   ]
  },
  {
   "cell_type": "markdown",
   "id": "b6f62a9e",
   "metadata": {},
   "source": [
    "### Parte 1:\n",
    "1. Encuentre las ecuaciones de Ingreso  y tasa de interes  de equilibrio."
   ]
  },
  {
   "cell_type": "markdown",
   "id": "d943df7b",
   "metadata": {},
   "source": [
    "- Curva IS:\n",
    "\n",
    "A partir de la nueva identidad Ingreso-Gasto: $ Y = C + I + G $\n",
    "\n",
    "$$ Y = C_0 + bY^d + I_0 - hr + G_0$$\n",
    "\n",
    "$$ Y = C_0 + I_0 + G_0 - hr + b(1-t)Y $$\n",
    "\n",
    "$$ hr = C_0 + I_0 + G_0 + b(1-t)Y - Y $$\n",
    "\n",
    "$$ hr = C_0 + I_0 + G_0 - Y(1- b(1-t)) $$\n",
    "\n",
    "La ecuación de la curva IS es:\n",
    "\n",
    "$$ r = \\frac{C_0 + I_0 + G_0}{h} - \\frac{1- b(1-t)}{h}Y $$\n",
    "\n",
    "$$ r = \\frac{B_0}{h} - \\frac{B_1}{h}Y $$\n",
    "\n",
    "Donde $B_0 = C_0 + I_0 + G_0 $ y $ B_1 = 1- b(1-t) $"
   ]
  },
  {
   "cell_type": "markdown",
   "id": "5846065d",
   "metadata": {},
   "source": [
    "- Curva LM:\n",
    "\n",
    "$$ \\frac{M^s_0}{P_0} = kY - j(r + π^e) $$\n"
   ]
  },
  {
   "cell_type": "markdown",
   "id": "c6b33199",
   "metadata": {},
   "source": [
    "$$ j(r + π^e) = kY - \\frac{M^s_0}{P_0} $$\n",
    "\n",
    "$$ r + π^e = - \\frac{M^s_0}{jP_0} + \\frac{kY}{j} $$\n",
    "\n",
    "La ecuación de la curva LM es:\n",
    "\n",
    "$$ r = - \\frac{M^s_0}{jP_0} + \\frac{k}{j}Y - π^e $$\n"
   ]
  },
  {
   "cell_type": "markdown",
   "id": "05c1c4da",
   "metadata": {},
   "source": [
    "- Equilibrio modelo IS-LM:\n",
    "\n",
    "Para hallar $Y^e$:\n"
   ]
  },
  {
   "cell_type": "markdown",
   "id": "750e04ed",
   "metadata": {},
   "source": [
    "$$ \\frac{B_0}{h} - \\frac{B_1}{h}Y = - \\frac{M^s_0}{jP_0} + \\frac{k}{j}Y - π^e $$\n"
   ]
  },
  {
   "cell_type": "markdown",
   "id": "070cae53",
   "metadata": {},
   "source": [
    "$$ \\frac{B_0}{h} + \\frac{M^s_0}{jP_0} + π^e = \\frac{k}{j}Y + \\frac{B_1}{h}Y $$"
   ]
  },
  {
   "cell_type": "markdown",
   "id": "8169433a",
   "metadata": {},
   "source": [
    "$$ Y(\\frac{k}{j} + \\frac{B_1}{h}) = \\frac{B_0}{h} + \\frac{M^s_0}{jP_0} + π^e $$"
   ]
  },
  {
   "cell_type": "markdown",
   "id": "a89ebc78",
   "metadata": {},
   "source": [
    "$$ Y(\\frac{hk + jB_1}{jh}) = \\frac{B_0}{h} + \\frac{M^s_0}{jP_0} + π^e $$"
   ]
  },
  {
   "cell_type": "markdown",
   "id": "c2e42130",
   "metadata": {},
   "source": [
    "$$ Y^e = \\frac{jB_0}{kh + jB_1} + \\frac{M_0^s}{P_0} \\frac{h}{kh + jB_1} + \\frac{jh}{kh + jB_1} π^e $$"
   ]
  },
  {
   "cell_type": "markdown",
   "id": "07e10910",
   "metadata": {},
   "source": [
    "Para hallar $r^e$:"
   ]
  },
  {
   "cell_type": "markdown",
   "id": "2a0a4cea",
   "metadata": {},
   "source": [
    "$$ r^e = - \\frac{Ms_o}{P_o} (\\frac{B_1}{kh + jB_1}) + \\frac{kB_o}{kh + jB_1} - \\frac{B_1}{kh + jB_1} π^e $$\n"
   ]
  },
  {
   "cell_type": "markdown",
   "id": "982503e2",
   "metadata": {},
   "source": [
    "#### 1.2 Grafique el equilibrio simultáneo en los mercados de bienes y de dinero."
   ]
  },
  {
   "cell_type": "code",
   "execution_count": 19,
   "id": "23383897",
   "metadata": {},
   "outputs": [],
   "source": [
    "#--------------------------------------------------\n",
    "    # Curva IS\n",
    "\n",
    "# Parámetros\n",
    "\n",
    "Y_size = 100 \n",
    "\n",
    "Co = 35\n",
    "Io = 40\n",
    "Go = 50\n",
    "h = 0.8\n",
    "b = 0.5\n",
    "t = 0.8\n",
    "\n",
    "Y = np.arange(Y_size)\n",
    "\n",
    "\n",
    "# Ecuación \n",
    "def r_IS_2(b, t, Co, Io, Go, h, Y):\n",
    "    r_IS_2 = (Co + Io + Go - Y * (1-b*(1-t)))/h\n",
    "    return r_IS_2\n",
    "\n",
    "r_2 = r_IS_2(b, t, Co, Io, Go, h, Y)\n",
    "\n",
    "\n",
    "#--------------------------------------------------\n",
    "    # Curva LM \n",
    "\n",
    "# Parámetros\n",
    "\n",
    "Y_size = 100\n",
    "\n",
    "k = 2\n",
    "j = 1                \n",
    "Ms = 200             \n",
    "P  = 20\n",
    "π = 4\n",
    "\n",
    "Y = np.arange(Y_size)\n",
    "\n",
    "# Ecuación\n",
    "\n",
    "def i_LM_2(k, j, Ms, P, Y, π):\n",
    "    i_LM_2 = (-Ms/P)/j + k/j*Y - π\n",
    "    return i_LM_2\n",
    "\n",
    "i_2 = i_LM_2( k, j, Ms, P, Y, π)"
   ]
  },
  {
   "cell_type": "code",
   "execution_count": 20,
   "id": "b9bba9cf",
   "metadata": {},
   "outputs": [
    {
     "data": {
      "image/png": "[encoded data removed]",
      "text/plain": [
       "<Figure size 720x576 with 1 Axes>"
      ]
     },
     "metadata": {},
     "output_type": "display_data"
    }
   ],
   "source": [
    "# Gráfico del modelo IS-LM\n",
    "\n",
    "# Dimensiones del gráfico\n",
    "y_max = np.max(i)\n",
    "fig, ax = plt.subplots(figsize=(10, 8))\n",
    "\n",
    "# Curvas a graficar\n",
    "ax.plot(Y, r_2, label = \"IS\", color = \"C1\") #IS\n",
    "ax.plot(Y, i_2, label=\"LM\", color = \"C0\")  #LM\n",
    "\n",
    "# Eliminar las cantidades de los ejes\n",
    "ax.yaxis.set_major_locator(plt.NullLocator())   \n",
    "ax.xaxis.set_major_locator(plt.NullLocator())\n",
    "\n",
    "# Texto y figuras agregadas\n",
    "plt.axvline(x=55,  ymin= 0, ymax= 0.54, linestyle = \":\", color = \"black\")\n",
    "plt.axhline(y=94, xmin= 0, xmax= 0.55, linestyle = \":\", color = \"black\")\n",
    "plt.text(53,102, '$E_0$', fontsize = 14, color = 'black')\n",
    "plt.text(0,100, '$r_0$', fontsize = 12, color = 'black')\n",
    "plt.text(56,-15, '$Y_0$', fontsize = 12, color = 'black')\n",
    "\n",
    "# Título, ejes y leyenda\n",
    "ax.set(title=\"Equilibrio modelo IS-LM\", xlabel= r'Y', ylabel= r'r')\n",
    "ax.legend()\n",
    "\n",
    "plt.show()"
   ]
  },
  {
   "cell_type": "code",
   "execution_count": 21,
   "id": "745b07f1",
   "metadata": {},
   "outputs": [],
   "source": [
    "# nombrar variables como símbolos\n",
    "Co, Io, Go, h, r, b, t, beta_0, beta_1  = symbols('Co, Io, Go, h, r, b, t, beta_0, beta_1')\n",
    "\n",
    "# nombrar variables como símbolos\n",
    "k, j, Ms, P, Y, π = symbols('k j Ms P Y π')\n",
    "\n",
    "# Beta_0 y beta_1\n",
    "beta_0 = (Co + Io + Go)\n",
    "beta_1 = (1 - b*(1-t))\n",
    "\n",
    "# Producto de equilibrio y la tasa de interes de equilibrio en el modelo IS-LM\n",
    "r_eq = -(Ms/P)*(beta_1/(k*h+j*beta_1)) + ((k*beta_0)/k*h+j*beta_1) - ((beta_1*π)/k*h+j*beta_1)\n",
    "Y_eq = ((j*beta_0)/(k*h+j*beta_1)) + (Ms/P)*(h/(k*h+j*beta_1)) + (j*h*π/(k*h+j*beta_1))"
   ]
  },
  {
   "cell_type": "markdown",
   "id": "3db24602",
   "metadata": {},
   "source": [
    "### 2. Estática comparativa:"
   ]
  },
  {
   "cell_type": "markdown",
   "id": "6639401c",
   "metadata": {},
   "source": [
    "#### 2.1. Analice los efectos sobre las variables endógenas Y, r de una disminución de los Precios $(∆P_0 < 0)$. El análisis debe ser intuitivo, matemático y gráfico."
   ]
  },
  {
   "cell_type": "markdown",
   "id": "41e3873e",
   "metadata": {},
   "source": [
    "- Matemática:"
   ]
  },
  {
   "cell_type": "code",
   "execution_count": 22,
   "id": "acf9e203",
   "metadata": {},
   "outputs": [],
   "source": [
    "# nombrar variables como símbolos\n",
    "Co, Io, Go, h, r, b, t, beta_0, beta_1  = symbols('Co, Io, Go, h, r, b, t, beta_0, beta_1')\n",
    "\n",
    "# nombrar variables como símbolos\n",
    "k, j, Ms, P, Y, π = symbols('k j Ms P Y π')\n",
    "\n",
    "# Beta_0 y beta_1\n",
    "beta_0 = (Co + Io + Go)\n",
    "beta_1 = (1 - b*(1-t))\n",
    "\n",
    "# Producto de equilibrio y la tasa de interes de equilibrio en el modelo IS-LM\n",
    "r_eq = -(Ms/P)*(beta_1/(k*h+j*beta_1)) + ((k*beta_0)/k*h+j*beta_1) - ((beta_1*π)/k*h+j*beta_1)\n",
    "Y_eq = ((j*beta_0)/(k*h+j*beta_1)) + (Ms/P)*(h/(k*h+j*beta_1)) + (j*h*π/(k*h+j*beta_1))"
   ]
  },
  {
   "cell_type": "code",
   "execution_count": 23,
   "id": "60a12b43",
   "metadata": {},
   "outputs": [
    {
     "name": "stdout",
     "output_type": "stream",
     "text": [
      "El Diferencial del Producto con respecto al diferencial del nivel de precios =  -Ms*h/(P**2*(h*k + j*(-b*(1 - t) + 1)))\n"
     ]
    }
   ],
   "source": [
    "df_Y_eq_P = diff(Y_eq, P)\n",
    "print(\"El Diferencial del Producto con respecto al diferencial del nivel de precios = \", df_Y_eq_P)"
   ]
  },
  {
   "cell_type": "markdown",
   "id": "bb26b1aa",
   "metadata": {},
   "source": [
    "¿$∆Y$ sabiendo que $∆P < 0$?\n",
    "\n",
    "$$ \\frac{∆Y}{∆P} = (-) $$\n",
    "\n",
    "$$ \\frac{∆Y}{(-)} = (-) $$\n",
    "\n",
    "$$ ∆Y > 0 $$"
   ]
  },
  {
   "cell_type": "code",
   "execution_count": 24,
   "id": "d7e8371e",
   "metadata": {},
   "outputs": [
    {
     "name": "stdout",
     "output_type": "stream",
     "text": [
      "El Diferencial de la tasa de interés con respecto al diferencial del nivel de precios =  Ms*(-b*(1 - t) + 1)/(P**2*(h*k + j*(-b*(1 - t) + 1)))\n"
     ]
    }
   ],
   "source": [
    "df_r_eq_P = diff(r_eq, P)\n",
    "print(\"El Diferencial de la tasa de interés con respecto al diferencial del nivel de precios = \", df_r_eq_P)\n"
   ]
  },
  {
   "cell_type": "markdown",
   "id": "01b853d0",
   "metadata": {},
   "source": [
    "¿$∆r$ sabiendo que $∆P < 0$?\n",
    "\n",
    "$$ \\frac{∆r}{∆P} = (+) $$\n",
    "\n",
    "$$ \\frac{∆r}{(-)} = (+) $$\n",
    "\n",
    "$$ ∆r < 0 $$"
   ]
  },
  {
   "cell_type": "markdown",
   "id": "ea61f434",
   "metadata": {},
   "source": [
    "- Intuición:\n",
    "\n",
    "$$ P↓ → M^s↑ → M^s > M^d → r↓ $$\n",
    "\n",
    "$$ r↓ → I↑ → DA↑ → DA > Y → Y↑ $$"
   ]
  },
  {
   "cell_type": "code",
   "execution_count": 25,
   "id": "a94ab449",
   "metadata": {},
   "outputs": [],
   "source": [
    "#--------------------------------------------------\n",
    "    # Curva IS\n",
    "\n",
    "# Parámetros\n",
    "\n",
    "Y_size = 100 \n",
    "\n",
    "Co = 35\n",
    "Io = 40\n",
    "Go = 50\n",
    "h = 0.8\n",
    "b = 0.5\n",
    "t = 0.8\n",
    "\n",
    "Y = np.arange(Y_size)\n",
    "\n",
    "\n",
    "# Ecuación \n",
    "def r_IS_2(b, t, Co, Io, Go, h, Y):\n",
    "    r_IS_2 = (Co + Io + Go - Y * (1-b*(1-t)))/h\n",
    "    return r_IS_2\n",
    "\n",
    "r_2 = r_IS_2(b, t, Co, Io, Go, h, Y)\n",
    "\n",
    "\n",
    "#--------------------------------------------------\n",
    "    # Curva LM \n",
    "\n",
    "# Parámetros\n",
    "\n",
    "Y_size = 100\n",
    "\n",
    "k = 2\n",
    "j = 1                \n",
    "Ms = 200             \n",
    "P  = 20\n",
    "π = 4\n",
    "\n",
    "Y = np.arange(Y_size)\n",
    "\n",
    "# Ecuación\n",
    "\n",
    "def i_LM_2(k, j, Ms, P, Y, π):\n",
    "    i_LM_2 = (-Ms/P)/j + k/j*Y - π\n",
    "    return i_LM_2\n",
    "\n",
    "i_2 = i_LM_2( k, j, Ms, P, Y, π)\n",
    "\n",
    "\n",
    "#--------------------------------------------------\n",
    "    # Nueva curva LM \n",
    "    \n",
    "P = 5\n",
    "\n",
    "# Ecuación\n",
    "\n",
    "def i_LM_2(k, j, Ms, P, Y, π):\n",
    "    i_LM_2 = (-Ms/P)/j + k/j*Y - π\n",
    "    return i_LM_2\n",
    "\n",
    "i_2_P = i_LM_2( k, j, Ms, P, Y, π)"
   ]
  },
  {
   "cell_type": "code",
   "execution_count": 26,
   "id": "07a5ddc4",
   "metadata": {},
   "outputs": [
    {
     "data": {
      "image/png": "[encoded data removed]",
      "text/plain": [
       "<Figure size 720x576 with 1 Axes>"
      ]
     },
     "metadata": {},
     "output_type": "display_data"
    }
   ],
   "source": [
    "    # Gráfico del modelo IS-LM\n",
    "\n",
    "# Dimensiones del gráfico\n",
    "y_max = np.max(i)\n",
    "fig, ax = plt.subplots(figsize=(10, 8))\n",
    "\n",
    "# Curvas a graficar\n",
    "ax.plot(Y, r_2, label = \"IS\", color = \"C1\") #IS\n",
    "ax.plot(Y, i_2, label=\"LM\", color = \"C0\")  #LM\n",
    "ax.plot(Y, i_2_P, label=\"LM\", color = \"C0\", linestyle ='dashed')  #LM\n",
    "\n",
    "# Eliminar las cantidades de los ejes\n",
    "ax.yaxis.set_major_locator(plt.NullLocator())   \n",
    "ax.xaxis.set_major_locator(plt.NullLocator())\n",
    "\n",
    "# Texto y figuras agregadas\n",
    "plt.axvline(x=55,  ymin= 0, ymax= 0.6, linestyle = \":\", color = \"black\")\n",
    "plt.axhline(y=94, xmin= 0, xmax= 0.55, linestyle = \":\", color = \"black\")\n",
    "plt.text(53,102, '$E_0$', fontsize = 14, color = 'black')\n",
    "plt.text(0,100, '$r_0$', fontsize = 12, color = 'black')\n",
    "plt.text(56,-45, '$Y_0$', fontsize = 12, color = 'black')\n",
    "\n",
    "plt.axvline(x=64.5,  ymin= 0, ymax= 0.56, linestyle = \":\", color = \"black\")\n",
    "plt.axhline(y=85, xmin= 0, xmax= 0.64, linestyle = \":\", color = \"black\")\n",
    "plt.text(62,90, '$E_1$', fontsize = 14, color = 'C0')\n",
    "plt.text(0,75, '$r_1$', fontsize = 12, color = 'C0')\n",
    "plt.text(66,-45, '$Y_1$', fontsize = 12, color = 'C0')\n",
    "\n",
    "# Título, ejes y leyenda\n",
    "ax.set(title=\"Disminución del Precio\", xlabel= r'Y', ylabel= r'r')\n",
    "ax.legend()\n",
    "\n",
    "plt.show()"
   ]
  },
  {
   "cell_type": "markdown",
   "id": "75cafb6f",
   "metadata": {},
   "source": [
    "#### 2.2 Analice los efectos sobre las variables endógenas Y, r de una disminución de la inflación esperada $(∆π < 0)$. El análisis debe ser intuitivo, matemático y gráfico."
   ]
  },
  {
   "cell_type": "markdown",
   "id": "80e36785",
   "metadata": {},
   "source": [
    "- Matemática:"
   ]
  },
  {
   "cell_type": "code",
   "execution_count": 27,
   "id": "cdc8e192",
   "metadata": {},
   "outputs": [],
   "source": [
    "# nombrar variables como símbolos\n",
    "Co, Io, Go, h, r, b, t, beta_0, beta_1  = symbols('Co, Io, Go, h, r, b, t, beta_0, beta_1')\n",
    "\n",
    "# nombrar variables como símbolos\n",
    "k, j, Ms, P, Y, π = symbols('k j Ms P Y π')\n",
    "\n",
    "# Beta_0 y beta_1\n",
    "beta_0 = (Co + Io + Go)\n",
    "beta_1 = (1 - b*(1-t))\n",
    "\n",
    "# Producto de equilibrio y la tasa de interes de equilibrio en el modelo IS-LM\n",
    "r_eq = -(Ms/P)*(beta_1/(k*h+j*beta_1)) + ((k*beta_0)/k*h+j*beta_1) - ((beta_1*π)/k*h+j*beta_1)\n",
    "Y_eq = ((j*beta_0)/(k*h+j*beta_1)) + (Ms/P)*(h/(k*h+j*beta_1)) + (j*h*π/(k*h+j*beta_1))\n"
   ]
  },
  {
   "cell_type": "code",
   "execution_count": 28,
   "id": "cdde5e5f",
   "metadata": {},
   "outputs": [
    {
     "name": "stdout",
     "output_type": "stream",
     "text": [
      "El Diferencial del Producto con respecto al diferencial del nivel de inflación =  h*j/(h*k + j*(-b*(1 - t) + 1))\n"
     ]
    }
   ],
   "source": [
    "df_Y_eq_π = diff(Y_eq, π)\n",
    "print(\"El Diferencial del Producto con respecto al diferencial del nivel de inflación = \", df_Y_eq_π)"
   ]
  },
  {
   "cell_type": "markdown",
   "id": "0f638767",
   "metadata": {},
   "source": [
    "¿$∆Y$ sabiendo que $∆π < 0$?\n",
    "\n",
    "$$ \\frac{∆Y}{∆π} = (+) $$\n",
    "\n",
    "$$ \\frac{∆Y}{(-)} = (+) $$\n",
    "\n",
    "$$ ∆Y < 0 $$"
   ]
  },
  {
   "cell_type": "code",
   "execution_count": 29,
   "id": "e4dbf067",
   "metadata": {},
   "outputs": [
    {
     "name": "stdout",
     "output_type": "stream",
     "text": [
      "El Diferencial de la tasa de interés con respecto al diferencial del nivel de inflación =  -h*(-b*(1 - t) + 1)/k\n"
     ]
    }
   ],
   "source": [
    "df_r_eq_π = diff(r_eq, π)\n",
    "print(\"El Diferencial de la tasa de interés con respecto al diferencial del nivel de inflación = \", df_r_eq_π)\n"
   ]
  },
  {
   "cell_type": "markdown",
   "id": "6ee81a5f",
   "metadata": {},
   "source": [
    "¿$∆r$ sabiendo que $∆π < 0$?\n",
    "\n",
    "$$ \\frac{∆r}{∆π} = (-) $$\n",
    "\n",
    "$$ \\frac{∆r}{(-)} = (-) $$\n",
    "\n",
    "$$ ∆r > 0 $$"
   ]
  },
  {
   "cell_type": "markdown",
   "id": "915d30c9",
   "metadata": {},
   "source": [
    "- Intuición:\n",
    "\n",
    "$$ π↓ → r↑ $$\n",
    "\n",
    "$$ r↑ → I↓ → DA↓ → DA < Y → Y↓ $$"
   ]
  },
  {
   "cell_type": "code",
   "execution_count": 30,
   "id": "2717585e",
   "metadata": {},
   "outputs": [],
   "source": [
    "#--------------------------------------------------\n",
    "    # Curva IS\n",
    "\n",
    "# Parámetros\n",
    "\n",
    "Y_size = 100 \n",
    "\n",
    "Co = 35\n",
    "Io = 40\n",
    "Go = 50\n",
    "h = 0.8\n",
    "b = 0.5\n",
    "t = 0.8\n",
    "\n",
    "Y = np.arange(Y_size)\n",
    "\n",
    "\n",
    "# Ecuación \n",
    "def r_IS_2(b, t, Co, Io, Go, h, Y):\n",
    "    r_IS_2 = (Co + Io + Go - Y * (1-b*(1-t)))/h\n",
    "    return r_IS_2\n",
    "\n",
    "r_2 = r_IS_2(b, t, Co, Io, Go, h, Y)\n",
    "\n",
    "\n",
    "#--------------------------------------------------\n",
    "    # Curva LM \n",
    "\n",
    "# Parámetros\n",
    "\n",
    "Y_size = 100\n",
    "\n",
    "k = 2\n",
    "j = 1                \n",
    "Ms = 200             \n",
    "P  = 20\n",
    "π = 20\n",
    "\n",
    "Y = np.arange(Y_size)\n",
    "\n",
    "# Ecuación\n",
    "\n",
    "def i_LM_2(k, j, Ms, P, Y, π):\n",
    "    i_LM_2 = (-Ms/P)/j + k/j*Y - π\n",
    "    return i_LM_2\n",
    "\n",
    "i_2 = i_LM_2( k, j, Ms, P, Y, π)\n",
    "\n",
    "\n",
    "#--------------------------------------------------\n",
    "    # Nueva curva LM \n",
    "    \n",
    "π = 2\n",
    "\n",
    "# Ecuación\n",
    "\n",
    "def i_LM_2(k, j, Ms, P, Y, π):\n",
    "    i_LM_2 = (-Ms/P)/j + k/j*Y - π\n",
    "    return i_LM_2\n",
    "\n",
    "i_2_π = i_LM_2( k, j, Ms, P, Y, π)"
   ]
  },
  {
   "cell_type": "code",
   "execution_count": 31,
   "id": "3235edf5",
   "metadata": {},
   "outputs": [
    {
     "data": {
      "image/png": "[encoded data removed]",
      "text/plain": [
       "<Figure size 720x576 with 1 Axes>"
      ]
     },
     "metadata": {},
     "output_type": "display_data"
    }
   ],
   "source": [
    "# Gráfico del modelo IS-LM\n",
    "\n",
    "# Dimensiones del gráfico\n",
    "y_max = np.max(i)\n",
    "fig, ax = plt.subplots(figsize=(10, 8))\n",
    "\n",
    "# Curvas a graficar\n",
    "ax.plot(Y, r_2, label = \"IS\", color = \"C1\") #IS\n",
    "ax.plot(Y, i_2, label=\"LM\", color = \"C0\")  #LM\n",
    "ax.plot(Y, i_2_π, label=\"LM\", color = \"C0\", linestyle ='dashed')  #LM\n",
    "\n",
    "# Eliminar las cantidades de los ejes\n",
    "ax.yaxis.set_major_locator(plt.NullLocator())   \n",
    "ax.xaxis.set_major_locator(plt.NullLocator())\n",
    "\n",
    "# Texto y figuras agregadas\n",
    "plt.axvline(x=54,  ymin= 0, ymax= 0.57, linestyle = \":\", color = \"black\")\n",
    "plt.axhline(y=95, xmin= 0, xmax= 0.54, linestyle = \":\", color = \"black\")\n",
    "plt.text(52,103, '$E_1$', fontsize = 14, color = 'C0')\n",
    "plt.text(0,100, '$r_1$', fontsize = 12, color = 'C0')\n",
    "plt.text(50,-35, '$Y_1$', fontsize = 12, color = 'C0')\n",
    "\n",
    "plt.axvline(x=60,  ymin= 0, ymax= 0.55, linestyle = \":\", color = \"black\")\n",
    "plt.axhline(y=89, xmin= 0, xmax= 0.6, linestyle = \":\", color = \"black\")\n",
    "plt.text(58,95, '$E_0$', fontsize = 14, color = 'black')\n",
    "plt.text(0,80, '$r_0$', fontsize = 12, color = 'black')\n",
    "plt.text(56,-35, '$Y_0$', fontsize = 12, color = 'black')\n",
    "\n",
    "# Título, ejes y leyenda\n",
    "ax.set(title=\"Disminución de la inflación esperada\", xlabel= r'Y', ylabel= r'r')\n",
    "ax.legend()\n",
    "\n",
    "plt.show()"
   ]
  }
 ],
 "metadata": {
  "kernelspec": {
   "display_name": "Python 3 (ipykernel)",
   "language": "python",
   "name": "python3"
  },
  "language_info": {
   "codemirror_mode": {
    "name": "ipython",
    "version": 3
   },
   "file_extension": ".py",
   "mimetype": "text/x-python",
   "name": "python",
   "nbconvert_exporter": "python",
   "pygments_lexer": "ipython3",
   "version": "3.9.12"
  }
 },
 "nbformat": 4,
 "nbformat_minor": 5
}
